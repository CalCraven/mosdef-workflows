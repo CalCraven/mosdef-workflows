{
 "cells": [
  {
   "cell_type": "markdown",
   "metadata": {},
   "source": [
    "# MoSDeF + HOOMD + Freud simulations of LJ particles at multiple thermodynamic states\n",
    "\n",
    "We will be attempting to reproduce some RDFs produced by Moore et al. (2014). \n",
    "In this publication, LJ particles were simulated at a variety of thermodynamic statepoints.\n",
    "\n",
    "![moore2014.png](./moore2014.png)\n",
    "\n",
    "Moore, T. C.; Iacovella, C. R.; McCabe, C. Derivation of Coarse-Grained Potentials via Multistate Iterative Boltzmann Inversion. J. Chem. Phys. 2014, 140 (22)."
   ]
  },
  {
   "cell_type": "code",
   "execution_count": 1,
   "metadata": {},
   "outputs": [],
   "source": [
    "import mbuild as mb\n",
    "from mbuild.formats.hoomd_simulation import create_hoomd_simulation\n",
    "from mbuild.formats.gsdwriter import write_gsd\n",
    "import foyer\n",
    "import unyt as u\n",
    "import hoomd\n",
    "%matplotlib inline\n",
    "import matplotlib.pyplot as plt\n",
    "import freud\n",
    "import gsd"
   ]
  },
  {
   "cell_type": "markdown",
   "metadata": {},
   "source": [
    "We will outline some basic constants to facilitate conversions to and from unitless to physical dimensions.\n",
    "The foyer XML within this repo contains the same force field information."
   ]
  },
  {
   "cell_type": "code",
   "execution_count": 2,
   "metadata": {},
   "outputs": [],
   "source": [
    "# Basic constants and LJ Argon properties\n",
    "sig = 0.34 * u.nm\n",
    "eps = 1 * u.kilojoule\n",
    "mass = 39.948 * u.amu\n",
    "kb_per_mol = u.boltzmann_constant * 6.022e23\n",
    "n = 2000"
   ]
  },
  {
   "cell_type": "code",
   "execution_count": 7,
   "metadata": {},
   "outputs": [
    {
     "name": "stdout",
     "output_type": "stream",
     "text": [
      "<?xml version=\"1.0\" encoding=\"UTF-8\"?>\r\n",
      "<ForceField >\r\n",
      "  <!--XML units: kJ/mol for energies, nm for lengths, and radians for angles.-->\r\n",
      "  <AtomTypes>\r\n",
      "    <Type name=\"Ar\" class=\"Ar\" element=\"Ar\" mass=\"39.948\" def=\"[Ar]\" desc=\"LJ Argon\"/>\r\n",
      "  </AtomTypes>\r\n",
      "  <HarmonicBondForce>\r\n",
      "  </HarmonicBondForce>\r\n",
      "  <HarmonicAngleForce/>\r\n",
      "  <RBTorsionForce>\r\n",
      "  </RBTorsionForce>\r\n",
      "  <NonbondedForce coulomb14scale=\"0.0\" lj14scale=\"0.0\">\r\n",
      "    <Atom type=\"Ar\" charge=\"0\" sigma=\"0.34\" epsilon=\"1.00\"/>\r\n",
      "  </NonbondedForce>\r\n",
      "</ForceField>\r\n"
     ]
    }
   ],
   "source": [
    "!head -n15 ff.xml"
   ]
  },
  {
   "cell_type": "code",
   "execution_count": 3,
   "metadata": {},
   "outputs": [],
   "source": [
    "# Define various thermodynamic state points, in reduced units\n",
    "statepoints = {'a': {'T_r':0.5, 'rho_r':0.85},\n",
    "                  'b': {'T_r':1.5, 'rho_r':0.67},\n",
    "                  'c': {'T_r':2.0, 'rho_r':0.18}}"
   ]
  },
  {
   "cell_type": "code",
   "execution_count": 4,
   "metadata": {},
   "outputs": [
    {
     "name": "stdout",
     "output_type": "stream",
     "text": [
      "HOOMD-blue v2.8.0-1-ga4de8f0a9 DOUBLE HPMC_MIXED SSE SSE2 SSE3 SSE4_1 \n",
      "Compiled: 10/31/2019\n",
      "Copyright (c) 2009-2019 The Regents of the University of Michigan.\n",
      "-----\n",
      "You are using HOOMD-blue. Please cite the following:\n",
      "* J A Anderson, C D Lorenz, and A Travesset. \"General purpose molecular dynamics\n",
      "  simulations fully implemented on graphics processing units\", Journal of\n",
      "  Computational Physics 227 (2008) 5342--5359\n",
      "* J Glaser, T D Nguyen, J A Anderson, P Liu, F Spiga, J A Millan, D C Morse, and\n",
      "  S C Glotzer. \"Strong scaling of general-purpose molecular dynamics simulations\n",
      "  on GPUs\", Computer Physics Communications 192 (2015) 97--107\n",
      "-----\n",
      "HOOMD-blue is running on the CPU\n"
     ]
    },
    {
     "name": "stderr",
     "output_type": "stream",
     "text": [
      "/Users/ayang41/anaconda3/envs/py36/lib/python3.6/site-packages/parmed/openmm/topsystem.py:238: OpenMMWarning: Adding what seems to be Urey-Bradley terms before Angles. This is unexpected, but the parameters will all be present in one form or another.\n",
      "  'all be present in one form or another.', OpenMMWarning)\n"
     ]
    },
    {
     "name": "stdout",
     "output_type": "stream",
     "text": [
      "notice(2): Group \"all\" created containing 2000 particles\n"
     ]
    },
    {
     "name": "stderr",
     "output_type": "stream",
     "text": [
      "*Warning*: nlist: No bonds defined while trying to add topology derived 1-3 exclusions\n"
     ]
    },
    {
     "name": "stdout",
     "output_type": "stream",
     "text": [
      "notice(2): -- Neighborlist exclusion statistics -- :\n",
      "notice(2): Particles with 0 exclusions             : 2000\n",
      "notice(2): Neighbors included by diameter          : no\n",
      "notice(2): Neighbors excluded when in the same body: no\n",
      "Processing LJ and QQ\n",
      "notice(2): Group \"charged\" created containing 0 particles\n",
      "No charged groups found, ignoring electrostatics\n",
      "HOOMD SimulationContext updated from ParmEd Structure\n",
      "** starting run **\n",
      "Time 00:00:10 | Step 1551 / 10000 | TPS 155.085 | ETA 00:00:54\n",
      "Time 00:00:20 | Step 2619 / 10000 | TPS 106.732 | ETA 00:01:09\n",
      "Time 00:00:30 | Step 3755 / 10000 | TPS 113.289 | ETA 00:00:55\n",
      "Time 00:00:40 | Step 4345 / 10000 | TPS 58.9882 | ETA 00:01:35\n",
      "Time 00:00:50 | Step 5001 / 10000 | TPS 65.4659 | ETA 00:01:16\n",
      "Time 00:01:00 | Step 6204 / 10000 | TPS 120.21 | ETA 00:00:31\n",
      "Time 00:01:10 | Step 7506 / 10000 | TPS 130.121 | ETA 00:00:19\n",
      "Time 00:01:20 | Step 9048 / 10000 | TPS 154.138 | ETA 00:00:06\n",
      "Time 00:01:26 | Step 10000 / 10000 | TPS 162.066 | ETA 00:00:00\n",
      "Average TPS: 116.347\n",
      "---------\n",
      "-- Neighborlist stats:\n",
      "32 normal updates / 100 forced updates / 0 dangerous updates\n",
      "n_neigh_min: 0 / n_neigh_max: 386 / n_neigh_avg: 184.873\n",
      "shortest rebuild period: 5\n",
      "-- Cell list stats:\n",
      "Dimension: 2, 2, 2\n",
      "n_min    : 235 / n_max: 262 / n_avg: 250\n",
      "** run complete **\n",
      "notice(2): Group \"all\" created containing 2000 particles\n"
     ]
    },
    {
     "name": "stderr",
     "output_type": "stream",
     "text": [
      "/Users/ayang41/anaconda3/envs/py36/lib/python3.6/site-packages/parmed/openmm/topsystem.py:238: OpenMMWarning: Adding what seems to be Urey-Bradley terms before Angles. This is unexpected, but the parameters will all be present in one form or another.\n",
      "  'all be present in one form or another.', OpenMMWarning)\n",
      "*Warning*: nlist: No bonds defined while trying to add topology derived 1-3 exclusions\n"
     ]
    },
    {
     "name": "stdout",
     "output_type": "stream",
     "text": [
      "notice(2): -- Neighborlist exclusion statistics -- :\n",
      "notice(2): Particles with 0 exclusions             : 2000\n",
      "notice(2): Neighbors included by diameter          : no\n",
      "notice(2): Neighbors excluded when in the same body: no\n",
      "Processing LJ and QQ\n",
      "notice(2): Group \"charged\" created containing 0 particles\n",
      "No charged groups found, ignoring electrostatics\n",
      "HOOMD SimulationContext updated from ParmEd Structure\n",
      "** starting run **\n",
      "Time 00:00:10 | Step 1700 / 10000 | TPS 169.772 | ETA 00:00:48\n",
      "Time 00:00:20 | Step 3179 / 10000 | TPS 147.885 | ETA 00:00:46\n",
      "Time 00:00:30 | Step 4801 / 10000 | TPS 161.901 | ETA 00:00:32\n",
      "Time 00:00:40 | Step 6486 / 10000 | TPS 168.273 | ETA 00:00:20\n",
      "Time 00:00:50 | Step 8220 / 10000 | TPS 173.329 | ETA 00:00:10\n",
      "Time 00:01:00 | Step 9935 / 10000 | TPS 171.499 | ETA 00:00:00\n",
      "Time 00:01:00 | Step 10000 / 10000 | TPS 191.456 | ETA 00:00:00\n",
      "Average TPS: 165.587\n",
      "---------\n",
      "-- Neighborlist stats:\n",
      "119 normal updates / 100 forced updates / 0 dangerous updates\n",
      "n_neigh_min: 0 / n_neigh_max: 294 / n_neigh_avg: 145.778\n",
      "shortest rebuild period: 6\n",
      "-- Cell list stats:\n",
      "Dimension: 3, 3, 3\n",
      "n_min    : 62 / n_max: 82 / n_avg: 74.0741\n",
      "** run complete **\n",
      "notice(2): Group \"all\" created containing 2000 particles\n"
     ]
    },
    {
     "name": "stderr",
     "output_type": "stream",
     "text": [
      "/Users/ayang41/anaconda3/envs/py36/lib/python3.6/site-packages/parmed/openmm/topsystem.py:238: OpenMMWarning: Adding what seems to be Urey-Bradley terms before Angles. This is unexpected, but the parameters will all be present in one form or another.\n",
      "  'all be present in one form or another.', OpenMMWarning)\n",
      "*Warning*: nlist: No bonds defined while trying to add topology derived 1-3 exclusions\n"
     ]
    },
    {
     "name": "stdout",
     "output_type": "stream",
     "text": [
      "notice(2): -- Neighborlist exclusion statistics -- :\n",
      "notice(2): Particles with 0 exclusions             : 2000\n",
      "notice(2): Neighbors included by diameter          : no\n",
      "notice(2): Neighbors excluded when in the same body: no\n",
      "Processing LJ and QQ\n",
      "notice(2): Group \"charged\" created containing 0 particles\n",
      "No charged groups found, ignoring electrostatics\n",
      "HOOMD SimulationContext updated from ParmEd Structure\n",
      "** starting run **\n",
      "Time 00:00:10 | Step 5458 / 10000 | TPS 545.789 | ETA 00:00:08\n",
      "Time 00:00:18 | Step 10000 / 10000 | TPS 543.464 | ETA 00:00:00\n",
      "Average TPS: 544.706\n",
      "---------\n",
      "-- Neighborlist stats:\n",
      "173 normal updates / 100 forced updates / 0 dangerous updates\n",
      "n_neigh_min: 0 / n_neigh_max: 96 / n_neigh_avg: 39.2555\n",
      "shortest rebuild period: 8\n",
      "-- Cell list stats:\n",
      "Dimension: 4, 4, 4\n",
      "n_min    : 20 / n_max: 40 / n_avg: 31.25\n",
      "** run complete **\n"
     ]
    }
   ],
   "source": [
    "# Iterate through each thermodynamic statepoint, building, parametrizing, and simulating the system\n",
    "for i, statepoint in statepoints.items():\n",
    "    # Create LJ particle\n",
    "    lj_compound = mb.Compound(name='Ar')\n",
    "    \n",
    "    # Create mbuild Box based on reduced density\n",
    "    volume = n * sig**3 / statepoint['rho_r'] \n",
    "    cubic_box_length = volume **(1/3)\n",
    "    box = mb.Box([cubic_box_length, cubic_box_length, cubic_box_length])\n",
    "    \n",
    "    # Use mbuild to pack box with LJ particles\n",
    "    # Use freud to wrap coordinates within box\n",
    "    freud_box = freud.box.Box.from_box(box.lengths)\n",
    "    filled_box = mb.fill_box(lj_compound, n_compounds=n, box=box)\n",
    "    filled_box.xyz = freud_box.wrap(filled_box.xyz)\n",
    "    \n",
    "    # Apply foyer force field\n",
    "    ff = foyer.Forcefield('ff.xml')\n",
    "    structure = ff.apply(filled_box)\n",
    "    \n",
    "    # Dump initial coordinates\n",
    "    write_gsd(structure, '{}_init.gsd'.format(i), ref_distance=10, ref_energy=1/4.184)\n",
    "\n",
    "    # Initialize hoomd simulation with relevant force field parameters\n",
    "    hoomd.context.initialize(\"\")\n",
    "    snapshot, ref_vals = create_hoomd_simulation(structure, ref_distance=10, ref_energy=1/4.184)\n",
    "    \n",
    "    # Define hoomd group for dumping and integrating\n",
    "    all_group = hoomd.group.all()\n",
    "\n",
    "    # Dump coordinates to GSD file\n",
    "    gsd_dump = hoomd.dump.gsd('{}.gsd'.format(i), 100, all_group, overwrite=True)\n",
    "    \n",
    "    # Define integration timestep\n",
    "    hoomd.md.integrate.mode_standard(0.005)\n",
    "    \n",
    "    # Specify integrator with velocity randomization\n",
    "    integrator = hoomd.md.integrate.nvt(all_group, statepoint['T_r'], 1.0)\n",
    "    integrator.randomize_velocities(42)\n",
    "    \n",
    "    hoomd.run(10000)\n"
   ]
  },
  {
   "cell_type": "code",
   "execution_count": 5,
   "metadata": {},
   "outputs": [
    {
     "data": {
      "image/png": "[encoded data removed]",
      "text/plain": [
       "<Figure size 576x576 with 4 Axes>"
      ]
     },
     "metadata": {
      "needs_background": "light"
     },
     "output_type": "display_data"
    }
   ],
   "source": [
    "# Analyze the simulations by computing RDFs via freud\n",
    "fig, ax = plt.subplots(2,2, figsize=(8,8))\n",
    "for i, name in enumerate(statepoints):\n",
    "    with gsd.hoomd.open('{}.gsd'.format(name), 'rb') as f:\n",
    "        freud_rdf = freud.density.RDF(bins=50, r_max=2, r_min=0)\n",
    "        for frame in f:\n",
    "            freud_rdf.compute(system=frame, reset=False)\n",
    "    row = i // 2\n",
    "    col = i % 2\n",
    "    \n",
    "    density = statepoints[name]['rho_r']\n",
    "    temperature = statepoints[name]['T_r']\n",
    "    \n",
    "    ax[row, col].set_ylabel(\"g(r)\", size=18)\n",
    "    ax[row, col].set_xlabel(r\"r/$\\sigma$\", size=18)\n",
    "    \n",
    "    ax[row, col].set_title(r\"$T_r$={:.3f}, $\\rho_r$={:.3f}\".format(temperature, density), size=18)\n",
    "    ax[row, col].plot(freud_rdf.bin_centers/sig, freud_rdf.rdf)\n",
    "    fig.tight_layout()"
   ]
  },
  {
   "cell_type": "markdown",
   "metadata": {},
   "source": [
    "\n",
    "![moore2014.png](./moore2014.png)\n",
    "\n",
    "Moore, T. C.; Iacovella, C. R.; McCabe, C. Derivation of Coarse-Grained Potentials via Multistate Iterative Boltzmann Inversion. J. Chem. Phys. 2014, 140 (22)."
   ]
  }
 ],
 "metadata": {
  "kernelspec": {
   "display_name": "Python 3",
   "language": "python",
   "name": "python3"
  }
 },
 "nbformat": 4,
 "nbformat_minor": 2
}
