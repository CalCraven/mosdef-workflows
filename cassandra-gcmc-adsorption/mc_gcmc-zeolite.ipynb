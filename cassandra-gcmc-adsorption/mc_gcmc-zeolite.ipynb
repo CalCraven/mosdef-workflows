{
 "cells": [
  {
   "cell_type": "markdown",
   "metadata": {},
   "source": [
    "# Adsorption in Zeolites with MoSDeF Cassandra\n",
    "\n",
    "In this notebook we demonstrate how to use the [MoSDeF tools](https://mosdef.org) with the [Cassandra Monte Carlo software](https://cassandra.nd.edu) to simulate the adsorption of methane in a zeolite. The [MoSDeF Cassandra](https://mosdef-cassandra.readthedocs.io/en/latest/) package provides seamless integration between the MoSDeF tools and Cassandra. The [TraPPE-Zeo](https://pubs.acs.org/doi/10.1021/jp4074224) force field is used to model intermolecular interactions. Here we choose to use Grand Canonical Monte Carlo (GCMC), yielding a two step procedure. First, we perform GCMC simulations of pure methane at a range of chemical potential values in order to calculate the pressure of pure methane as a function of the chemical potential. Then we proceed to run GCMC of the methane and zeolite system, where the chemical potential of methane is chosen to yield some pressure of interest.\n",
    "\n",
    "If you run all the simulations in this tutorial, it will take $\\sim$20 minutes on a quad-core laptop and generate $\\sim$500 MB of data."
   ]
  },
  {
   "cell_type": "markdown",
   "metadata": {},
   "source": [
    "## Preliminaries\n",
    "\n",
    "### Installation\n",
    "Everything done in this notebook is performed in a conda environment that can be created the following:\n",
    "\n",
    "```\n",
    "conda create --name mc-prod mosdef_cassandra foyer unyt matplotlib -c conda-forge -c mosdef -c omnia\n",
    "conda activate mc-prod\n",
    "```"
   ]
  },
  {
   "cell_type": "markdown",
   "metadata": {},
   "source": [
    "The above line also installs Cassandra. No additional steps are required. "
   ]
  },
  {
   "cell_type": "markdown",
   "metadata": {},
   "source": [
    "## Imports\n",
    "\n",
    "The primary packages required are `mbuild`, `foyer`, and `mosdef_cassandra`. We use `numpy`,  `scipy`, and `matplotlib` for analysis. The `os` package `temporary_cd` function allow for directory creation. Known warnings are filtered to reduce verbosity in the example. "
   ]
  },
  {
   "cell_type": "code",
   "execution_count": null,
   "metadata": {},
   "outputs": [],
   "source": [
    "import mbuild\n",
    "import foyer\n",
    "import mosdef_cassandra as mc\n",
    "import unyt as u\n",
    "\n",
    "import os\n",
    "import numpy as np\n",
    "import matplotlib.pyplot as plt\n",
    "from scipy.stats import linregress\n",
    "\n",
    "from mosdef_cassandra.utils.tempdir import temporary_cd\n",
    "\n",
    "# Filter some warnings -- to cleanup output for this demo\n",
    "from warnings import filterwarnings\n",
    "filterwarnings('ignore', category=UserWarning)\n",
    "from parmed.exceptions import OpenMMWarning\n",
    "filterwarnings('ignore', category=OpenMMWarning)"
   ]
  },
  {
   "cell_type": "markdown",
   "metadata": {},
   "source": [
    "## Relating $\\mu$ and $P$\n",
    "Before we begin, we need to construct the mapping between the chemical potential of the adsorbate in the pure fluid phase, $\\mu_\\text{adsorbate}$ and pressure, $P$ at the temperature of interest. This requires performing a series of simulations of the pure fluid phase."
   ]
  },
  {
   "cell_type": "markdown",
   "metadata": {},
   "source": [
    "### Create a coarse-grained methane molecule, load and apply FF\n",
    "\n",
    "We create a single site methane molecule in mBuild. We then load the force field from a foyer XML file and apply the force field to our methane molecule. This yields `typed_methane`, stored as a `parmed.Structure` object. "
   ]
  },
  {
   "cell_type": "code",
   "execution_count": null,
   "metadata": {},
   "outputs": [],
   "source": [
    "methane = mbuild.Compound(name='_CH4')\n",
    "ff_ads = foyer.Forcefield('resources/ffxml/adsorbates.xml')\n",
    "methane_typed = ff_ads.apply(methane)"
   ]
  },
  {
   "cell_type": "markdown",
   "metadata": {},
   "source": [
    "### Select a temperature and run pure fluid phase simulations\n",
    "\n",
    "Here we choose to run at 308 K. The `custom_args` dict is used to pass additional options to Cassandra. The TraPPE force field requires a cutoff of 14.0 Angstroms. Since the adsorbate molecule (methane) is neutral, we turn off long-range electrostatics by setting the `charge_style` to `\"none\"`.\n",
    "\n",
    "The range of chemical potential values is selected as -46 kJ/mol to -25 kJ/mol in increments of 3 kJ/mol. We then use [MoSDeF Cassandra](https://mosdef-cassandra.readthedocs.io/en/latest/) to run the GCMC simulations.\n",
    "\n",
    "Larger simulation boxes (20 x 20 x 20 nm$^3$) are used for the simulations at lower values of the chemical potential to ensure that the simulation box always has $>1$ methane molecule. At higher values of the chemical potential such large simulation boxes are not required and we use a smaller simulation box (5 x 5 x 5 nm$^3$) for efficiency.\n",
    "\n",
    "This set of simulations takes $\\sim$2 minutes on a quad-core laptop."
   ]
  },
  {
   "cell_type": "code",
   "execution_count": null,
   "metadata": {},
   "outputs": [],
   "source": [
    "temperature = 308.0 # K \n",
    "\n",
    "custom_args = {\n",
    "    \"charge_style\" : \"none\",\n",
    "    \"vdw_cutoff\" : 14.0,\n",
    "    \"prop_freq\" : 10,\n",
    "    \"max_molecules\" : [20000]\n",
    "}\n",
    "\n",
    "\n",
    "mus_adsorbate = np.arange(-46, -25, 3)\n",
    "\n",
    "for mu_adsorbate in mus_adsorbate:\n",
    "    dirname = 'pure_mu_{:.0f}'.format(mu_adsorbate)\n",
    "    if not os.path.isdir(dirname):\n",
    "        os.mkdir(dirname)\n",
    "    else:\n",
    "        pass\n",
    "    with temporary_cd(dirname):\n",
    "        species_list = [methane_typed]\n",
    "        if mu_adsorbate < -34:\n",
    "            boxl = 20. # nm\n",
    "        else:\n",
    "            boxl = 5. # nm\n",
    "        box_list = [mbuild.Box([boxl,boxl,boxl])]\n",
    "        system = mc.System(box_list, species_list)\n",
    "        moves = mc.Moves('gcmc', species_list)\n",
    "\n",
    "        mc.run(\n",
    "            system=system,\n",
    "            moves=moves,\n",
    "            run_type=\"equil\",\n",
    "            run_length=100000,\n",
    "            temperature=temperature,\n",
    "            chemical_potentials = [float(mu_adsorbate)],\n",
    "            **custom_args\n",
    "        )"
   ]
  },
  {
   "cell_type": "markdown",
   "metadata": {},
   "source": [
    "### Analyze the output\n",
    "\n",
    "We calculate the average pressure and plot the pressure as a function of the MC step. Based on the plateau in the pressure values by $\\sim$ step 20000, we conservatively start calculating the average pressure at step 30000."
   ]
  },
  {
   "cell_type": "code",
   "execution_count": null,
   "metadata": {},
   "outputs": [],
   "source": [
    "step_col = 1\n",
    "pressure_col = 6\n",
    "pressures = []\n",
    "for mu_adsorbate in mus_adsorbate:\n",
    "    dirname = f'pure_mu_{mu_adsorbate:.0f}'\n",
    "    thermo = np.genfromtxt(dirname + \"/gcmc.out.prp\", skip_header=3)\n",
    "    pressures.append(np.mean(thermo[3000:,pressure_col-1]))\n",
    "    plt.plot(thermo[:,step_col-1], thermo[:,pressure_col-1])\n",
    "plt.title(\"Pressure equilibration\")\n",
    "plt.xlabel(\"MC Step\")\n",
    "plt.ylabel(\"Pressure (bar)\")\n",
    "pass"
   ]
  },
  {
   "cell_type": "code",
   "execution_count": null,
   "metadata": {},
   "outputs": [],
   "source": [
    "plt.plot(mus_adsorbate,pressures, 'go-')\n",
    "plt.xlabel(\"Chemical potential (kJ/mol)\")\n",
    "plt.ylabel(\"Pressure [bar]\")\n",
    "plt.yscale('log')"
   ]
  },
  {
   "cell_type": "markdown",
   "metadata": {},
   "source": [
    "### Fit $\\mu$ vs. $\\ln(P)$ "
   ]
  },
  {
   "cell_type": "code",
   "execution_count": null,
   "metadata": {},
   "outputs": [],
   "source": [
    "slope, intercept, r_value, p_value, stderr = linregress(np.log(pressures).flatten(),y=mus_adsorbate.flatten())"
   ]
  },
  {
   "cell_type": "markdown",
   "metadata": {},
   "source": [
    "### Calculate the required $\\mu$ for a set of pressures.\n",
    "\n",
    " We can use our fit to calculate $\\mu$ required to run at a series of pressures."
   ]
  },
  {
   "cell_type": "code",
   "execution_count": null,
   "metadata": {},
   "outputs": [],
   "source": [
    "pressures = [\n",
    "    6000   ,\n",
    "    22100  ,\n",
    "    49180  ,\n",
    "    121800 ,\n",
    "    316800 ,\n",
    "    839700 ,\n",
    "    2243000,\n",
    "    6000000\n",
    "] * u.Pa\n",
    "\n",
    "mus = slope * np.log(pressures.in_units(u.bar)) + intercept\n",
    "for (mu, pressure) in zip(mus, pressures):\n",
    "    print(f\"We will run at mu = {mu:0.2f} to simulate {pressure:0.0f}\")"
   ]
  },
  {
   "cell_type": "markdown",
   "metadata": {},
   "source": [
    "## Simulate adsorption in a zeolite\n",
    "\n",
    "### Load a zeolite structure (MFI), load and apply FF"
   ]
  },
  {
   "cell_type": "code",
   "execution_count": null,
   "metadata": {
    "scrolled": true
   },
   "outputs": [],
   "source": [
    "zeolite = mbuild.load('resources/pdb/MFI-expt_2x2x3.pdb')\n",
    "ff_zeo = foyer.Forcefield('resources/ffxml/zeo_trappe.xml')\n",
    "zeolite_typed = ff_zeo.apply(zeolite)"
   ]
  },
  {
   "cell_type": "markdown",
   "metadata": {},
   "source": [
    "Soon, mbuild will [support CIF loading](https://github.com/mosdef-hub/mbuild/pull/689), at which point loading the PDB can be replaced by the following:"
   ]
  },
  {
   "cell_type": "markdown",
   "metadata": {},
   "source": [
    "```\n",
    "zeolite_lattice = mbuild.lattice.load_cif('MFI.cif')\n",
    "compound_dict = {\n",
    "    \"O\" : mbuild.Compound(name=\"O\"),\n",
    "    \"Si\" : mbuild.Compound(name=\"Si\")\n",
    "}\n",
    "zeolite = zeolite_lattice.populate(x=2, y=2, z=3, compound_dict=compound_dict)\n",
    "```"
   ]
  },
  {
   "cell_type": "markdown",
   "metadata": {},
   "source": [
    "### Setup a GCMC system with MoSDeF Cassandra\n",
    "\n",
    "GCMC requires a single simulation box which contains the MFI zeolite. Thus, we use the `mbuild.Compound` zeolite as our initial box. The two species in the simulation are the MFI and our CG methane.\n",
    "\n",
    "Our initial structure contains 1 zeolite and no methane. Since GCMC can insert molecules we do not need to add any methane to our starting structure."
   ]
  },
  {
   "cell_type": "code",
   "execution_count": null,
   "metadata": {},
   "outputs": [],
   "source": [
    "box_list = [zeolite]\n",
    "species_list = [zeolite_typed, methane_typed]\n",
    "\n",
    "mols_in_boxes = [[1,0]]"
   ]
  },
  {
   "cell_type": "markdown",
   "metadata": {},
   "source": [
    "We can now create the `mc.System` and `mc.Moves` objects."
   ]
  },
  {
   "cell_type": "code",
   "execution_count": null,
   "metadata": {},
   "outputs": [],
   "source": [
    "system = mc.System(\n",
    "    box_list,\n",
    "    species_list,\n",
    "    mols_in_boxes=mols_in_boxes,\n",
    ")\n",
    "\n",
    "moves = mc.Moves('gcmc', species_list)"
   ]
  },
  {
   "cell_type": "markdown",
   "metadata": {},
   "source": [
    "### We can easily view the selected move probabilities"
   ]
  },
  {
   "cell_type": "code",
   "execution_count": null,
   "metadata": {
    "scrolled": true
   },
   "outputs": [],
   "source": [
    "moves.print()"
   ]
  },
  {
   "cell_type": "markdown",
   "metadata": {},
   "source": [
    "## Run simulations\n",
    "\n",
    "The following set of simulations requires $\\sim$15 minutes on a quad-core laptop. That can be reduced to $\\sim$5 minutes by removing the three highest pressures."
   ]
  },
  {
   "cell_type": "code",
   "execution_count": null,
   "metadata": {
    "scrolled": true
   },
   "outputs": [],
   "source": [
    "custom_args = {\n",
    "    \"charge_style\" : \"none\",\n",
    "    \"vdw_cutoff\" : 14.0,\n",
    "    \"prop_freq\" : 10,\n",
    "    \"coord_freq\" : 500,\n",
    "}\n",
    "\n",
    "for (pressure, mu) in zip(pressures, mus):\n",
    "    \n",
    "    dirname = f\"zeo_press_{pressure.value:0.0f}\"\n",
    "    if not os.path.isdir(dirname):\n",
    "        os.mkdir(dirname)\n",
    "    else:\n",
    "        pass\n",
    "    with temporary_cd(dirname):\n",
    "        mc.run(\n",
    "            system=system,\n",
    "            moves=moves,\n",
    "            run_type=\"equil\",\n",
    "            run_length=100000,\n",
    "            temperature=temperature,\n",
    "            chemical_potentials = [\"none\", mu],\n",
    "            **custom_args\n",
    "        )"
   ]
  },
  {
   "cell_type": "markdown",
   "metadata": {},
   "source": [
    "## Extract the results and plot"
   ]
  },
  {
   "cell_type": "code",
   "execution_count": null,
   "metadata": {},
   "outputs": [],
   "source": [
    "step_col = 1\n",
    "nmol_col = 9\n",
    "loading = []\n",
    "for pressure in pressures:\n",
    "    dirname = f\"zeo_press_{pressure.value:0.0f}\"\n",
    "    thermo = np.genfromtxt(f\"{dirname}/gcmc.out.prp\", skip_header=2)\n",
    "    n_unitcells = 12\n",
    "    loading.append(np.mean(thermo[3000:,nmol_col-1]/n_unitcells))\n",
    "    plt.plot(thermo[:,step_col-1], thermo[:,nmol_col-1]/n_unitcells, label=f\"{pressure:0.0f}\")\n",
    "    \n",
    "plt.title(f\"T = {temperature:0.1f} K\")\n",
    "plt.xlabel('MC Step')\n",
    "plt.legend(bbox_to_anchor=(1.4, 1), loc='upper right', ncol=1)\n",
    "plt.ylabel('Methane / unit cell')\n",
    "plt.show()"
   ]
  },
  {
   "cell_type": "markdown",
   "metadata": {},
   "source": [
    "## Comparison with literature\n",
    "\n",
    "We can also compare our results with existing results from the [literature](https://pubs.acs.org/doi/10.1021/jp4074224). Not bad for a relatively short simulation! "
   ]
  },
  {
   "cell_type": "code",
   "execution_count": null,
   "metadata": {},
   "outputs": [],
   "source": [
    "published_results = np.genfromtxt('resources/lit_results/tzeo_MFI-methane_308K.txt', skip_header=3)\n",
    "plt.plot(published_results[:,0], published_results[:,1], 'bs', markersize=8, label=\"Siepmann 2013\")\n",
    "plt.plot(pressures, loading, 'ro', markersize=8, label=\"This work\")\n",
    "plt.title(\"Comparison with literature\")\n",
    "plt.xlabel(\"Pressure, Pa\")\n",
    "plt.ylabel(\"Loading, molec/uc\")\n",
    "plt.legend()\n",
    "plt.xscale(\"log\")"
   ]
  },
  {
   "cell_type": "markdown",
   "metadata": {},
   "source": [
    "## Summary\n",
    "\n",
    "In this notebook we showed how the MoSDeF tools can be used with Cassandra to easily run a series of Grand Canonical Monte Carlo simulations and model the adsorption of methane in a zeolite."
   ]
  }
 ],
 "metadata": {
  "kernelspec": {
   "display_name": "Python 3",
   "language": "python",
   "name": "python3"
  },
  "language_info": {
   "codemirror_mode": {
    "name": "ipython",
    "version": 3
   },
   "file_extension": ".py",
   "mimetype": "text/x-python",
   "name": "python",
   "nbconvert_exporter": "python",
   "pygments_lexer": "ipython3",
   "version": "3.7.6"
  }
 },
 "nbformat": 4,
 "nbformat_minor": 4
}
