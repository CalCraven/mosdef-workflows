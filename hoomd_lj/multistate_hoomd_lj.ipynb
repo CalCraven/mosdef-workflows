{
 "cells": [
  {
   "cell_type": "markdown",
   "metadata": {},
   "source": [
    "# MoSDeF + HOOMD + Freud simulations of LJ particles at multiple thermodynamic states\n",
    "\n",
    "We will be attempting to reproduce some RDFs produced by Moore et al. (2014). \n",
    "In this publication, LJ particles were simulated at a variety of thermodynamic statepoints.\n",
    "\n",
    "![moore2014.png](./moore2014.png)\n",
    "\n",
    "Moore, T. C.; Iacovella, C. R.; McCabe, C. Derivation of Coarse-Grained Potentials via Multistate Iterative Boltzmann Inversion. J. Chem. Phys. 2014, 140 (22)."
   ]
  },
  {
   "cell_type": "code",
   "execution_count": 1,
   "metadata": {},
   "outputs": [],
   "source": [
    "import mbuild as mb\n",
    "from mbuild.formats.hoomd3_forcefield import create_hoomd3_forcefield\n",
    "from mbuild.formats.gsdwriter import write_gsd\n",
    "import foyer\n",
    "import unyt as u\n",
    "import hoomd\n",
    "%matplotlib inline\n",
    "import matplotlib.pyplot as plt\n",
    "import freud\n",
    "import gsd"
   ]
  },
  {
   "cell_type": "markdown",
   "metadata": {},
   "source": [
    "We will outline some basic constants to facilitate conversions to and from unitless to physical dimensions.\n",
    "The foyer XML within this repo contains the same force field information."
   ]
  },
  {
   "cell_type": "code",
   "execution_count": 2,
   "metadata": {},
   "outputs": [],
   "source": [
    "# Basic constants and LJ Argon properties\n",
    "sig = 0.34 * u.nm\n",
    "eps = 1 * u.kilojoule\n",
    "mass = 39.948 * u.amu\n",
    "kb_per_mol = u.boltzmann_constant * 6.022e23\n",
    "n = 2000"
   ]
  },
  {
   "cell_type": "code",
   "execution_count": 3,
   "metadata": {},
   "outputs": [
    {
     "name": "stdout",
     "output_type": "stream",
     "text": [
      "<?xml version=\"1.0\" encoding=\"UTF-8\"?>\n",
      "<ForceField >\n",
      "  <!--XML units: kJ/mol for energies, nm for lengths, and radians for angles.-->\n",
      "  <AtomTypes>\n",
      "    <Type name=\"Ar\" class=\"Ar\" element=\"Ar\" mass=\"39.948\" def=\"[Ar]\" desc=\"LJ Argon\"/>\n",
      "  </AtomTypes>\n",
      "  <HarmonicBondForce>\n",
      "  </HarmonicBondForce>\n",
      "  <HarmonicAngleForce/>\n",
      "  <RBTorsionForce>\n",
      "  </RBTorsionForce>\n",
      "  <NonbondedForce coulomb14scale=\"0.0\" lj14scale=\"0.0\">\n",
      "    <Atom type=\"Ar\" charge=\"0\" sigma=\"0.34\" epsilon=\"1.00\"/>\n",
      "  </NonbondedForce>\n",
      "</ForceField>\n"
     ]
    }
   ],
   "source": [
    "!head -n15 ff.xml"
   ]
  },
  {
   "cell_type": "code",
   "execution_count": 4,
   "metadata": {},
   "outputs": [],
   "source": [
    "# Define various thermodynamic state points, in reduced units\n",
    "statepoints = {'a': {'T_r':0.5, 'rho_r':0.85},\n",
    "                  'b': {'T_r':1.5, 'rho_r':0.67},\n",
    "                  'c': {'T_r':2.0, 'rho_r':0.18}}"
   ]
  },
  {
   "cell_type": "code",
   "execution_count": 5,
   "metadata": {},
   "outputs": [
    {
     "name": "stderr",
     "output_type": "stream",
     "text": [
      "/scratch/joaander/miniforge3/envs/hoomd_lj/lib/python3.8/site-packages/foyer/forcefield.py:615: UserWarning: No force field version number found in force field XML file.\n",
      "  warnings.warn(\n",
      "/scratch/joaander/miniforge3/envs/hoomd_lj/lib/python3.8/site-packages/foyer/forcefield.py:627: UserWarning: No force field name found in force field XML file.\n",
      "  warnings.warn(\n",
      "/scratch/joaander/miniforge3/envs/hoomd_lj/lib/python3.8/site-packages/foyer/forcefield.py:639: UserWarning: No combining rule found in force field XML file.\n",
      "  warnings.warn(\n",
      "/scratch/joaander/miniforge3/envs/hoomd_lj/lib/python3.8/site-packages/parmed/openmm/topsystem.py:240: OpenMMWarning: Adding what seems to be Urey-Bradley terms before Angles. This is unexpected, but the parameters will all be present in one form or another.\n",
      "  warnings.warn('Adding what seems to be Urey-Bradley terms before ' # pragma: no cover\n"
     ]
    },
    {
     "name": "stdout",
     "output_type": "stream",
     "text": [
      "Processing LJ and QQ\n",
      "No charged groups found, ignoring electrostatics\n"
     ]
    },
    {
     "name": "stderr",
     "output_type": "stream",
     "text": [
      "*Warning*: nlist: No bonds defined while trying to add topology derived 1-3 exclusions\n",
      "/scratch/joaander/miniforge3/envs/hoomd_lj/lib/python3.8/site-packages/parmed/openmm/topsystem.py:240: OpenMMWarning: Adding what seems to be Urey-Bradley terms before Angles. This is unexpected, but the parameters will all be present in one form or another.\n",
      "  warnings.warn('Adding what seems to be Urey-Bradley terms before ' # pragma: no cover\n",
      "*Warning*: nlist: No bonds defined while trying to add topology derived 1-3 exclusions\n"
     ]
    },
    {
     "name": "stdout",
     "output_type": "stream",
     "text": [
      "Processing LJ and QQ\n",
      "No charged groups found, ignoring electrostatics\n"
     ]
    },
    {
     "name": "stderr",
     "output_type": "stream",
     "text": [
      "/scratch/joaander/miniforge3/envs/hoomd_lj/lib/python3.8/site-packages/parmed/openmm/topsystem.py:240: OpenMMWarning: Adding what seems to be Urey-Bradley terms before Angles. This is unexpected, but the parameters will all be present in one form or another.\n",
      "  warnings.warn('Adding what seems to be Urey-Bradley terms before ' # pragma: no cover\n",
      "*Warning*: nlist: No bonds defined while trying to add topology derived 1-3 exclusions\n"
     ]
    },
    {
     "name": "stdout",
     "output_type": "stream",
     "text": [
      "Processing LJ and QQ\n",
      "No charged groups found, ignoring electrostatics\n"
     ]
    }
   ],
   "source": [
    "# Iterate through each thermodynamic statepoint, building, parametrizing, and simulating the system\n",
    "for i, statepoint in statepoints.items():\n",
    "    # Create LJ particle\n",
    "    lj_compound = mb.Compound(name='Ar')\n",
    "    \n",
    "    # Create mbuild Box based on reduced density\n",
    "    volume = n * sig**3 / statepoint['rho_r'] \n",
    "    cubic_box_length = volume **(1/3)\n",
    "    box = mb.Box([cubic_box_length, cubic_box_length, cubic_box_length])\n",
    "    \n",
    "    # Use mbuild to pack box with LJ particles\n",
    "    # Use freud to wrap coordinates within box\n",
    "    freud_box = freud.box.Box.from_box(box.lengths)\n",
    "    filled_box = mb.fill_box(lj_compound, n_compounds=n, box=box)\n",
    "    filled_box.xyz = freud_box.wrap(filled_box.xyz)\n",
    "    \n",
    "    # Apply foyer force field\n",
    "    ff = foyer.Forcefield('ff.xml')\n",
    "    structure = ff.apply(filled_box)\n",
    "    \n",
    "    # Dump initial coordinates\n",
    "    write_gsd(structure, '{}_init.gsd'.format(i), ref_distance=10, ref_energy=1/4.184)\n",
    "\n",
    "    # Create a snapshot and forcefield object\n",
    "    snapshot, forcefield, ref_vals = create_hoomd3_forcefield(structure, ref_distance=10, ref_energy=1/4.184)\n",
    "    \n",
    "    # Define hoomd simulation\n",
    "    device = hoomd.device.auto_select()\n",
    "    simulation = hoomd.Simulation(device=device, seed=1)\n",
    "    simulation.create_state_from_snapshot(snapshot)\n",
    "\n",
    "    # Dump coordinates to GSD file\n",
    "    gsd_writer = hoomd.write.GSD(filename='{}.gsd'.format(i),\n",
    "                                 trigger=hoomd.trigger.Periodic(100),\n",
    "                                 mode='wb')\n",
    "    simulation.operations.writers.append(gsd_writer)\n",
    "    \n",
    "    # Enable MD integration with the forcefield from mbuild/foyer\n",
    "    integrator = hoomd.md.Integrator(dt=0.005)\n",
    "    integrator.forces = forcefield\n",
    "        \n",
    "    nvt = hoomd.md.methods.NVT(filter=hoomd.filter.All(),\n",
    "                               kT = statepoint['T_r'],\n",
    "                               tau=1.0)\n",
    "    integrator.methods = [nvt]\n",
    "    \n",
    "    simulation.operations.integrator = integrator\n",
    "    \n",
    "    # Randomize initial velocitites\n",
    "    simulation.state.thermalize_particle_momenta(filter=hoomd.filter.All(),\n",
    "                                                 kT=statepoint['T_r'])    \n",
    "    \n",
    "    simulation.run(10000)\n"
   ]
  },
  {
   "cell_type": "code",
   "execution_count": 6,
   "metadata": {},
   "outputs": [
    {
     "data": {
      "image/png": "[encoded data removed]",
      "text/plain": [
       "<Figure size 576x576 with 4 Axes>"
      ]
     },
     "metadata": {
      "needs_background": "light"
     },
     "output_type": "display_data"
    }
   ],
   "source": [
    "# Analyze the simulations by computing RDFs via freud\n",
    "fig, ax = plt.subplots(2,2, figsize=(8,8))\n",
    "for i, name in enumerate(statepoints):\n",
    "    with gsd.hoomd.open('{}.gsd'.format(name), 'rb') as f:\n",
    "        freud_rdf = freud.density.RDF(bins=50, r_max=2, r_min=0)\n",
    "        for frame in f:\n",
    "            freud_rdf.compute(system=frame, reset=False)\n",
    "    row = i // 2\n",
    "    col = i % 2\n",
    "    \n",
    "    density = statepoints[name]['rho_r']\n",
    "    temperature = statepoints[name]['T_r']\n",
    "    \n",
    "    ax[row, col].set_ylabel(\"g(r)\", size=18)\n",
    "    ax[row, col].set_xlabel(r\"r/$\\sigma$\", size=18)\n",
    "    \n",
    "    ax[row, col].set_title(r\"$T_r$={:.3f}, $\\rho_r$={:.3f}\".format(temperature, density), size=18)\n",
    "    ax[row, col].plot(freud_rdf.bin_centers/sig, freud_rdf.rdf)\n",
    "    fig.tight_layout()"
   ]
  },
  {
   "cell_type": "markdown",
   "metadata": {},
   "source": [
    "\n",
    "![moore2014.png](./moore2014.png)\n",
    "\n",
    "Moore, T. C.; Iacovella, C. R.; McCabe, C. Derivation of Coarse-Grained Potentials via Multistate Iterative Boltzmann Inversion. J. Chem. Phys. 2014, 140 (22)."
   ]
  }
 ],
 "metadata": {
  "kernelspec": {
   "display_name": "Python 3",
   "language": "python",
   "name": "python3"
  },
  "language_info": {
   "codemirror_mode": {
    "name": "ipython",
    "version": 3
   },
   "file_extension": ".py",
   "mimetype": "text/x-python",
   "name": "python",
   "nbconvert_exporter": "python",
   "pygments_lexer": "ipython3",
   "version": "3.8.10"
  }
 },
 "nbformat": 4,
 "nbformat_minor": 4
}
